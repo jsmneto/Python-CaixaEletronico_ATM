{
 "cells": [
  {
   "cell_type": "code",
   "execution_count": 3,
   "id": "44d55340-1837-49b8-92c2-21d204c1a844",
   "metadata": {},
   "outputs": [
    {
     "name": "stdout",
     "output_type": "stream",
     "text": [
      "\n"
     ]
    }
   ],
   "source": [
    "\"\"\"\n",
    "Exercício: Simulação de Caixa Eletrônico\n",
    "\n",
    "Objetivo: Desenvolver um programa em Python que simula as \n",
    "operações básicas de um caixa eletrônico. O usuário deve ser capaz de \n",
    "verificar o saldo, depositar dinheiro, sacar dinheiro e sair do programa.\n",
    "\n",
    "Requisitos:\n",
    "\n",
    "    Verificar Saldo:\n",
    "    \n",
    "        - Ao escolher essa opção, o programa deve exibir o saldo atual da conta.\n",
    "\n",
    "    Depositar Dinheiro:\n",
    "    \n",
    "        - O usuário deve ser capaz de inserir uma quantia para depositar na conta.\n",
    "        - A quantia deve ser positiva.\n",
    "        - Após um depósito bem-sucedido, o saldo da conta deve ser atualizado e uma \n",
    "        mensagem de confirmação deve ser exibida.\n",
    "\n",
    "    Sacar Dinheiro:\n",
    "    \n",
    "        - O usuário deve ser capaz de inserir uma quantia para sacar da conta.\n",
    "        - A quantia deve ser positiva e não deve exceder o saldo atual.\n",
    "        - Após um saque bem-sucedido, o saldo da conta deve ser \n",
    "        atualizado e uma mensagem de confirmação deve ser exibida.\n",
    "\n",
    "    Sair:\n",
    "    \n",
    "        - O usuário deve ser capaz de sair do programa escolhendo essa opção.\n",
    "\n",
    "    Validação de Entrada:\n",
    "    \n",
    "        - O programa deve lidar com entradas inválidas de forma adequada, exibindo mensagens de erro quando aplicável.\n",
    "\n",
    "    Interface de Usuário:\n",
    "    \n",
    "        - O programa deve exibir um menu de opções para o usuário e permitir \n",
    "        a seleção de ações a serem realizadas.\n",
    "        - As opções do menu devem ser apresentadas em um loop, permitindo \n",
    "        múltiplas operações até que o usuário escolha sair.\n",
    "        \n",
    "            Caixa Eletrônico\n",
    "            1 - Verificar Saldo\n",
    "            2 - Depositar Dinheiro\n",
    "            3 - Sacar Dinheiro\n",
    "            4 - Sair\n",
    "            Escolha uma opção (1-4):\n",
    "\n",
    "    Saldo Inicial:\n",
    "    \n",
    "        - A conta deve começar com um saldo inicial de R$ 1000.00.\n",
    "\n",
    "Instruções:\n",
    "\n",
    "    - Comece inicializando o saldo e entrando em um loop que apresente o menu de opções.\n",
    "    - Implemente cada operação como descrito nos requisitos.\n",
    "    - Certifique-se de testar todas as opções e cenários possíveis para garantir que \n",
    "    o programa funcione corretamente.\n",
    "\n",
    "\n",
    "Dica: Você pode usar condicionais if, elif, e else juntamente com um loop while \n",
    "para gerenciar as seleções do usuário e manter o programa em execução \n",
    "até que a opção de sair seja escolhida.\n",
    "\n",
    "\"\"\"\n",
    "print()\n"
   ]
  },
  {
   "cell_type": "code",
   "execution_count": 1,
   "id": "fb89dbf6-a925-4f92-85ea-85eade3cd803",
   "metadata": {},
   "outputs": [
    {
     "name": "stdout",
     "output_type": "stream",
     "text": [
      "\n",
      "CAIXA ELETRÔNICO \n",
      "1 - Verificar Saldo \n",
      "2 - Depositar Dinheiro \n",
      "3 - Sacar Dinheiro \n",
      "4 - Sair\n"
     ]
    },
    {
     "name": "stdin",
     "output_type": "stream",
     "text": [
      "Escolha uma opção (1-4): 4\n"
     ]
    },
    {
     "name": "stdout",
     "output_type": "stream",
     "text": [
      "Obrigado por utilizar o nosso Caixa Eletrônico. Até Breve!\n"
     ]
    }
   ],
   "source": [
    "saldo = 2000.00\n",
    "\n",
    "\n",
    "while True:\n",
    "    print (\"\\nCAIXA ELETRÔNICO\", \"\\n1 - Verificar Saldo\", \"\\n2 - Depositar Dinheiro\", \"\\n3 - Sacar Dinheiro\", \"\\n4 - Sair\")\n",
    "    escolha = float(input(\"Escolha uma opção (1-4):\"))\n",
    "\n",
    "    if escolha == 1:\n",
    "        print (f\"Seu saldo é de: €{saldo:.2f}\")\n",
    "    \n",
    "    elif escolha == 2:\n",
    "        escolha = float(input(\"Digite o valor que você deseja DEPOSITAR: €\"))\n",
    "        if escolha > 0:\n",
    "            saldo += escolha\n",
    "            print (f\"Depósito de €{escolha:.2f} realizado com sucesso.\")\n",
    "        else:\n",
    "            print (\"Valor de depósito inválido.\")\n",
    "        \n",
    "\n",
    "    elif escolha == 3:\n",
    "        escolha = float(input(\"Digite o valor que você deseja SACAR: €\"))\n",
    "        if escolha > 0 and escolha <= saldo:\n",
    "            saldo -= escolha\n",
    "            print (f\"Saque de €{escolha:.2f} realizado com sucesso.\")\n",
    "        else:\n",
    "            print (\"Valor de saque inválido, ou saldo insuficiente.\")\n",
    "            \n",
    "    elif escolha == 4:\n",
    "        print(\"Obrigado por utilizar o nosso Caixa Eletrônico. Até Breve!\")\n",
    "        break\n",
    "\n",
    "    else:\n",
    "        print(\"Opção invalida. Por favor, tente novamente.\")"
   ]
  }
 ],
 "metadata": {
  "kernelspec": {
   "display_name": "Python 3 (ipykernel)",
   "language": "python",
   "name": "python3"
  },
  "language_info": {
   "codemirror_mode": {
    "name": "ipython",
    "version": 3
   },
   "file_extension": ".py",
   "mimetype": "text/x-python",
   "name": "python",
   "nbconvert_exporter": "python",
   "pygments_lexer": "ipython3",
   "version": "3.12.4"
  }
 },
 "nbformat": 4,
 "nbformat_minor": 5
}
